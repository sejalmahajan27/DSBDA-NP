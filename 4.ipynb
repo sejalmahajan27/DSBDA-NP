{
 "cells": [
  {
   "cell_type": "code",
   "execution_count": 8,
   "id": "9672ff6c",
   "metadata": {},
   "outputs": [],
   "source": [
    "import numpy as np\n",
    "import pandas as pd \n",
    "from sklearn.linear_model import LinearRegression\n",
    "from sklearn.model_selection import train_test_split\n",
    "#function to split data into training and testing sets for machine learning.\n",
    "from sklearn.metrics import mean_squared_error, r2_score\n",
    "#Measures how far predictions are from actual values."
   ]
  },
  {
   "cell_type": "code",
   "execution_count": 9,
   "id": "df9769fd",
   "metadata": {},
   "outputs": [],
   "source": [
    "data = pd.read_csv('data4.csv')\n",
    "X = data.iloc[:, 1].values.reshape(-1, 1)  # Reshape 1D to 2D . 1st col\n",
    "y = data.iloc[:, -1].values #2nd col\n"
   ]
  },
  {
   "cell_type": "code",
   "execution_count": 10,
   "id": "5fc7843e",
   "metadata": {},
   "outputs": [],
   "source": [
    "data = pd.read_csv('data4.csv')"
   ]
  },
  {
   "cell_type": "code",
   "execution_count": 12,
   "id": "92bdf3ac",
   "metadata": {},
   "outputs": [
    {
     "name": "stdout",
     "output_type": "stream",
     "text": [
      "        price  area\n",
      "0    13300000  7420\n",
      "1    12250000  8960\n",
      "2    12250000  9960\n",
      "3    12215000  7500\n",
      "4    11410000  7420\n",
      "..        ...   ...\n",
      "540   1820000  3000\n",
      "541   1767150  2400\n",
      "542   1750000  3620\n",
      "543   1750000  2910\n",
      "544   1750000  3850\n",
      "\n",
      "[545 rows x 2 columns]\n"
     ]
    }
   ],
   "source": [
    "print(data)"
   ]
  },
  {
   "cell_type": "code",
   "execution_count": 20,
   "id": "3f18504a",
   "metadata": {},
   "outputs": [
    {
     "name": "stdout",
     "output_type": "stream",
     "text": [
      "Mean Price:  4766729.247706422\n"
     ]
    }
   ],
   "source": [
    "mean_price = data['price'].mean()\n",
    "print(\"Mean Price: \",mean_price)"
   ]
  },
  {
   "cell_type": "code",
   "execution_count": 17,
   "id": "79f8d089",
   "metadata": {},
   "outputs": [
    {
     "name": "stdout",
     "output_type": "stream",
     "text": [
      "area Price: 5150.54128440367\n"
     ]
    }
   ],
   "source": [
    "area_price = data['area'].mean()\n",
    "print(f\"area Price: {area_price}\")"
   ]
  },
  {
   "cell_type": "code",
   "execution_count": 25,
   "id": "ea98d816",
   "metadata": {},
   "outputs": [],
   "source": [
    "x_train, x_test, y_train, y_test = train_test_split(X, y, test_size=0.2, random_state=2)\n",
    "\n",
    "#This line splits the data into training and test sets. 80% is used for training and 20% for testing, and random_state=2 ensures the same split every time.\n",
    "\n"
   ]
  },
  {
   "cell_type": "code",
   "execution_count": 26,
   "id": "fa0be321",
   "metadata": {},
   "outputs": [
    {
     "data": {
      "text/html": [
       "<style>#sk-container-id-1 {color: black;}#sk-container-id-1 pre{padding: 0;}#sk-container-id-1 div.sk-toggleable {background-color: white;}#sk-container-id-1 label.sk-toggleable__label {cursor: pointer;display: block;width: 100%;margin-bottom: 0;padding: 0.3em;box-sizing: border-box;text-align: center;}#sk-container-id-1 label.sk-toggleable__label-arrow:before {content: \"▸\";float: left;margin-right: 0.25em;color: #696969;}#sk-container-id-1 label.sk-toggleable__label-arrow:hover:before {color: black;}#sk-container-id-1 div.sk-estimator:hover label.sk-toggleable__label-arrow:before {color: black;}#sk-container-id-1 div.sk-toggleable__content {max-height: 0;max-width: 0;overflow: hidden;text-align: left;background-color: #f0f8ff;}#sk-container-id-1 div.sk-toggleable__content pre {margin: 0.2em;color: black;border-radius: 0.25em;background-color: #f0f8ff;}#sk-container-id-1 input.sk-toggleable__control:checked~div.sk-toggleable__content {max-height: 200px;max-width: 100%;overflow: auto;}#sk-container-id-1 input.sk-toggleable__control:checked~label.sk-toggleable__label-arrow:before {content: \"▾\";}#sk-container-id-1 div.sk-estimator input.sk-toggleable__control:checked~label.sk-toggleable__label {background-color: #d4ebff;}#sk-container-id-1 div.sk-label input.sk-toggleable__control:checked~label.sk-toggleable__label {background-color: #d4ebff;}#sk-container-id-1 input.sk-hidden--visually {border: 0;clip: rect(1px 1px 1px 1px);clip: rect(1px, 1px, 1px, 1px);height: 1px;margin: -1px;overflow: hidden;padding: 0;position: absolute;width: 1px;}#sk-container-id-1 div.sk-estimator {font-family: monospace;background-color: #f0f8ff;border: 1px dotted black;border-radius: 0.25em;box-sizing: border-box;margin-bottom: 0.5em;}#sk-container-id-1 div.sk-estimator:hover {background-color: #d4ebff;}#sk-container-id-1 div.sk-parallel-item::after {content: \"\";width: 100%;border-bottom: 1px solid gray;flex-grow: 1;}#sk-container-id-1 div.sk-label:hover label.sk-toggleable__label {background-color: #d4ebff;}#sk-container-id-1 div.sk-serial::before {content: \"\";position: absolute;border-left: 1px solid gray;box-sizing: border-box;top: 0;bottom: 0;left: 50%;z-index: 0;}#sk-container-id-1 div.sk-serial {display: flex;flex-direction: column;align-items: center;background-color: white;padding-right: 0.2em;padding-left: 0.2em;position: relative;}#sk-container-id-1 div.sk-item {position: relative;z-index: 1;}#sk-container-id-1 div.sk-parallel {display: flex;align-items: stretch;justify-content: center;background-color: white;position: relative;}#sk-container-id-1 div.sk-item::before, #sk-container-id-1 div.sk-parallel-item::before {content: \"\";position: absolute;border-left: 1px solid gray;box-sizing: border-box;top: 0;bottom: 0;left: 50%;z-index: -1;}#sk-container-id-1 div.sk-parallel-item {display: flex;flex-direction: column;z-index: 1;position: relative;background-color: white;}#sk-container-id-1 div.sk-parallel-item:first-child::after {align-self: flex-end;width: 50%;}#sk-container-id-1 div.sk-parallel-item:last-child::after {align-self: flex-start;width: 50%;}#sk-container-id-1 div.sk-parallel-item:only-child::after {width: 0;}#sk-container-id-1 div.sk-dashed-wrapped {border: 1px dashed gray;margin: 0 0.4em 0.5em 0.4em;box-sizing: border-box;padding-bottom: 0.4em;background-color: white;}#sk-container-id-1 div.sk-label label {font-family: monospace;font-weight: bold;display: inline-block;line-height: 1.2em;}#sk-container-id-1 div.sk-label-container {text-align: center;}#sk-container-id-1 div.sk-container {/* jupyter's `normalize.less` sets `[hidden] { display: none; }` but bootstrap.min.css set `[hidden] { display: none !important; }` so we also need the `!important` here to be able to override the default hidden behavior on the sphinx rendered scikit-learn.org. See: https://github.com/scikit-learn/scikit-learn/issues/21755 */display: inline-block !important;position: relative;}#sk-container-id-1 div.sk-text-repr-fallback {display: none;}</style><div id=\"sk-container-id-1\" class=\"sk-top-container\"><div class=\"sk-text-repr-fallback\"><pre>LinearRegression()</pre><b>In a Jupyter environment, please rerun this cell to show the HTML representation or trust the notebook. <br />On GitHub, the HTML representation is unable to render, please try loading this page with nbviewer.org.</b></div><div class=\"sk-container\" hidden><div class=\"sk-item\"><div class=\"sk-estimator sk-toggleable\"><input class=\"sk-toggleable__control sk-hidden--visually\" id=\"sk-estimator-id-1\" type=\"checkbox\" checked><label for=\"sk-estimator-id-1\" class=\"sk-toggleable__label sk-toggleable__label-arrow\">LinearRegression</label><div class=\"sk-toggleable__content\"><pre>LinearRegression()</pre></div></div></div></div></div>"
      ],
      "text/plain": [
       "LinearRegression()"
      ]
     },
     "execution_count": 26,
     "metadata": {},
     "output_type": "execute_result"
    }
   ],
   "source": [
    "model = LinearRegression()\n",
    "model.fit(x_train, y_train)\n",
    "#LinearRegression() creates the model, and \n",
    "#.fit() trains it using the training data to learn the pattern between input and output."
   ]
  },
  {
   "cell_type": "code",
   "execution_count": 27,
   "id": "39355781",
   "metadata": {},
   "outputs": [],
   "source": [
    "y_pred = model.predict(x_test)\n",
    "#This line uses the trained Linear Regression model to predict outputs for the test inputs x_test\n",
    "#y_pred, contains the predicted values"
   ]
  },
  {
   "cell_type": "code",
   "execution_count": 28,
   "id": "b3f6db69",
   "metadata": {},
   "outputs": [],
   "source": [
    "mse = mean_squared_error(y_test, y_pred)\n",
    "rmse = np.sqrt(mse)\n",
    "r2 = r2_score(y_test, y_pred)\n",
    "#MSE shows average squared error,\n",
    "#RMSE is the error in actual units,\n",
    "#R² shows how well the model fits the data (closer to 1 is better)."
   ]
  },
  {
   "cell_type": "code",
   "execution_count": null,
   "id": "c2268766",
   "metadata": {},
   "outputs": [
    {
     "name": "stdout",
     "output_type": "stream",
     "text": [
      "Intercept: 9.094947017729282e-13\n",
      "Coefficient: 0.9999999999999999\n",
      "Mean Squared Error: 8.205404012137259e-26\n",
      "Root Mean Squared Error (RMSE): 2.8645076386941714e-13\n",
      "R-Squared Score (R²):1.0\n"
     ]
    }
   ],
   "source": [
    "print(f'Intercept: {model.intercept_}') #y=mx+b\n",
    "print(f'Coefficient: {model.coef_[0]}') #Prints the coefficient (slope m) of the line.\n",
    "print(f'Mean Squared Error: {mse}')\n",
    "print(f'Root Mean Squared Error (RMSE): {rmse}')\n",
    "print(f'R-Squared Score (R²):{r2}')"
   ]
  },
  {
   "cell_type": "code",
   "execution_count": 30,
   "id": "77543def",
   "metadata": {},
   "outputs": [
    {
     "name": "stdout",
     "output_type": "stream",
     "text": [
      "Predicted area : 13299999.999999998\n"
     ]
    }
   ],
   "source": [
    "user_price = float(input(\"Enter the house price : \"))\n",
    "predicted_area = (model.intercept_ + model.coef_[0] * user_price)\n",
    "print(f'Predicted area : {predicted_area}')\n"
   ]
  }
 ],
 "metadata": {
  "kernelspec": {
   "display_name": "Python 3",
   "language": "python",
   "name": "python3"
  },
  "language_info": {
   "codemirror_mode": {
    "name": "ipython",
    "version": 3
   },
   "file_extension": ".py",
   "mimetype": "text/x-python",
   "name": "python",
   "nbconvert_exporter": "python",
   "pygments_lexer": "ipython3",
   "version": "3.8.0"
  }
 },
 "nbformat": 4,
 "nbformat_minor": 5
}
