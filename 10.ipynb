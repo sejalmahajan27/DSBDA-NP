{
  "cells": [
    {
      "cell_type": "code",
      "execution_count": null,
      "metadata": {
        "id": "gIxzsCS3AC26"
      },
      "outputs": [],
      "source": [
        "import numpy as np\n",
        "import pandas as pd"
      ]
    },
    {
      "cell_type": "code",
      "execution_count": null,
      "metadata": {
        "id": "xIPt_X6vARGr"
      },
      "outputs": [],
      "source": [
        "df = pd.read_csv(\"data10.csv\")\n",
        "df.columns = [\"col1\",\"col2\",\"col3\",\"col4\",\"col5\"]"
      ]
    },
    {
      "cell_type": "code",
      "execution_count": null,
      "metadata": {
        "colab": {
          "base_uri": "https://localhost:8080/",
          "height": 206
        },
        "id": "dhVDf9SMAZwL",
        "outputId": "7262652e-629d-4f13-9dc4-5bf59adb3920"
      },
      "outputs": [],
      "source": [
        "df.head()"
      ]
    },
    {
      "cell_type": "code",
      "execution_count": null,
      "metadata": {
        "colab": {
          "base_uri": "https://localhost:8080/"
        },
        "id": "-tF9UEi4Aih3",
        "outputId": "74fa4025-0386-43b2-afaf-3f57aafcba02"
      },
      "outputs": [],
      "source": [
        "column = len(list(df))\n",
        "column"
      ]
    },
    {
      "cell_type": "code",
      "execution_count": null,
      "metadata": {
        "colab": {
          "base_uri": "https://localhost:8080/"
        },
        "id": "wh7NAPtqAwDP",
        "outputId": "bf76788c-96a3-4ff3-90fb-2407649ca2c0"
      },
      "outputs": [],
      "source": [
        "df.info()"
      ]
    },
    {
      "cell_type": "code",
      "execution_count": null,
      "metadata": {
        "colab": {
          "base_uri": "https://localhost:8080/"
        },
        "id": "qGUxzwO7BG5F",
        "outputId": "3bcd7e65-dce1-44f8-d7c6-210bef43fafe"
      },
      "outputs": [],
      "source": [
        "np.unique(df[\"col5\"])"
      ]
    },
    {
      "cell_type": "code",
      "execution_count": null,
      "metadata": {
        "colab": {
          "base_uri": "https://localhost:8080/",
          "height": 300
        },
        "id": "kxSVh5erBMOm",
        "outputId": "19a7fc90-8d7d-45e0-d74c-1afe59c83445"
      },
      "outputs": [],
      "source": [
        "df.describe()"
      ]
    },
    {
      "cell_type": "code",
      "execution_count": null,
      "metadata": {
        "id": "mIkOJA-lCAOK"
      },
      "outputs": [],
      "source": [
        "import seaborn as sns\n",
        "import matplotlib.pyplot as plt"
      ]
    },
    {
      "cell_type": "code",
      "execution_count": null,
      "metadata": {
        "colab": {
          "base_uri": "https://localhost:8080/",
          "height": 468
        },
        "id": "mSO4fGOjCInb",
        "outputId": "bf7bbe06-04f1-4942-89d9-6962a2938115"
      },
      "outputs": [],
      "source": [
        "fig, axes = plt.subplots(2, 2, figsize=(16, 8))\n",
        "\n",
        "\n",
        "axes[0,0].set_title(\"Distribution of First Column\")\n",
        "axes[0,0].hist(df[\"col1\"])\n",
        "\n",
        "axes[0,1].set_title(\"Distribution of Second Column\")\n",
        "axes[0,1].hist(df[\"col2\"])\n",
        "\n",
        "axes[1,0].set_title(\"Distribution of Third Column\")\n",
        "axes[1,0].hist(df[\"col3\"])\n",
        "\n",
        "axes[1,1].set_title(\"Distribution of Fourth Column\")\n",
        "axes[1,1].hist(df[\"col4\"])"
      ]
    },
    {
      "cell_type": "code",
      "execution_count": null,
      "metadata": {
        "colab": {
          "base_uri": "https://localhost:8080/",
          "height": 483
        },
        "id": "NzoKoBIeCUU2",
        "outputId": "6db8cca1-8efe-435a-cb2b-11726a8236aa"
      },
      "outputs": [],
      "source": [
        "data_to_plot = [df[\"col1\"],df[\"col2\"],df[\"col3\"],df[\"col4\"]]\n",
        "\n",
        "sns.set_style(\"whitegrid\")\n",
        "fig = plt.figure(1, figsize=(12,8))\n",
        "\n",
        "ax = fig.add_subplot(111)\n",
        "\n",
        "bp = ax.boxplot(data_to_plot)"
      ]
    },
    {
      "cell_type": "code",
      "execution_count": null,
      "metadata": {},
      "outputs": [],
      "source": [
        "sns.boxplot(x='col1', y='col2', data=df)"
      ]
    },
    {
      "cell_type": "code",
      "execution_count": null,
      "metadata": {},
      "outputs": [],
      "source": [
        "sns.boxplot(x='col3', y='col4', data=df)"
      ]
    }
  ],
  "metadata": {
    "colab": {
      "collapsed_sections": [],
      "name": "Assignment_No_10_Data_Visualization_III.ipynb",
      "provenance": []
    },
    "kernelspec": {
      "display_name": "Python 3",
      "name": "python3"
    },
    "language_info": {
      "codemirror_mode": {
        "name": "ipython",
        "version": 3
      },
      "file_extension": ".py",
      "mimetype": "text/x-python",
      "name": "python",
      "nbconvert_exporter": "python",
      "pygments_lexer": "ipython3",
      "version": "3.12.3"
    }
  },
  "nbformat": 4,
  "nbformat_minor": 0
}
