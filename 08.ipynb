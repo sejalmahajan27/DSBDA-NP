{
  "cells": [
    {
      "cell_type": "code",
      "execution_count": null,
      "metadata": {
        "colab": {
          "base_uri": "https://localhost:8080/",
          "height": 902
        },
        "id": "kJfD3Sb1UGin",
        "outputId": "99252cdb-64ce-451c-9e4d-208da006870c"
      },
      "outputs": [],
      "source": [
        "import pandas as pd\n",
        "import numpy as np\n",
        "import matplotlib.pyplot as plt\n",
        "import seaborn as sns"
      ]
    },
    {
      "cell_type": "code",
      "execution_count": null,
      "metadata": {},
      "outputs": [],
      "source": [
        "dataset=pd.read_csv('data8.csv')\n",
        "dataset"
      ]
    },
    {
      "cell_type": "code",
      "execution_count": null,
      "metadata": {
        "colab": {
          "base_uri": "https://localhost:8080/",
          "height": 351
        },
        "id": "6qKO3ujZUnJU",
        "outputId": "62c0b5fd-98a2-41fe-f441-45689fab04fe"
      },
      "outputs": [],
      "source": [
        "sns.displot(dataset['Fare'])"
      ]
    },
    {
      "cell_type": "code",
      "execution_count": null,
      "metadata": {
        "colab": {
          "base_uri": "https://localhost:8080/",
          "height": 353
        },
        "id": "y1fphQ5GWTmC",
        "outputId": "d8d327d6-fc00-43c3-d418-572f942f9499"
      },
      "outputs": [],
      "source": [
        "sns.displot(dataset['Fare'], kde=False)"
      ]
    },
    {
      "cell_type": "code",
      "execution_count": null,
      "metadata": {
        "colab": {
          "base_uri": "https://localhost:8080/",
          "height": 351
        },
        "id": "NEbZ0GRWWoBV",
        "outputId": "76874f44-33a6-4f70-9078-afc16d82aef5"
      },
      "outputs": [],
      "source": [
        "sns.displot(dataset['Fare'], kde=False, bins=10)"
      ]
    },
    {
      "cell_type": "code",
      "execution_count": null,
      "metadata": {
        "colab": {
          "base_uri": "https://localhost:8080/",
          "height": 458
        },
        "id": "UJip3YgxXQvm",
        "outputId": "98274270-96cd-4dcd-e01c-56b962d02f62"
      },
      "outputs": [],
      "source": [
        "sns.jointplot(x='Age', y='Fare', data=dataset)"
      ]
    },
    {
      "cell_type": "code",
      "execution_count": null,
      "metadata": {
        "colab": {
          "base_uri": "https://localhost:8080/",
          "height": 1000
        },
        "id": "TeBu0CfnXoWL",
        "outputId": "4dda3c6a-011c-445c-8757-56c41eea9a14"
      },
      "outputs": [],
      "source": [
        "sns.pairplot(dataset)"
      ]
    },
    {
      "cell_type": "code",
      "execution_count": null,
      "metadata": {
        "colab": {
          "base_uri": "https://localhost:8080/",
          "height": 300
        },
        "id": "dhz5pmxYYX3A",
        "outputId": "44791362-9139-4ead-df17-0ce4a945ce7b"
      },
      "outputs": [],
      "source": [
        "sns.rugplot(dataset['Fare'])"
      ]
    },
    {
      "cell_type": "code",
      "execution_count": null,
      "metadata": {
        "colab": {
          "base_uri": "https://localhost:8080/",
          "height": 296
        },
        "id": "gmLrlzYcY1PH",
        "outputId": "d2a83b34-2efa-4655-986b-4f4429f793a5"
      },
      "outputs": [],
      "source": [
        "sns.barplot(x='Sex', y='Age', data=dataset)"
      ]
    },
    {
      "cell_type": "code",
      "execution_count": null,
      "metadata": {
        "colab": {
          "base_uri": "https://localhost:8080/",
          "height": 296
        },
        "id": "66NA4b8IZVtu",
        "outputId": "367e6199-93b5-4ace-925f-a4a697724a1b"
      },
      "outputs": [],
      "source": [
        "sns.countplot(x='Fare', data=dataset)"
      ]
    },
    {
      "cell_type": "code",
      "execution_count": null,
      "metadata": {
        "colab": {
          "base_uri": "https://localhost:8080/",
          "height": 296
        },
        "id": "Sj4F85SVZn6P",
        "outputId": "e93d3c0b-d797-4161-f09c-ad4bff9c07ef"
      },
      "outputs": [],
      "source": [
        "sns.boxplot(x='Sex', y='Age', data=dataset)"
      ]
    },
    {
      "cell_type": "code",
      "execution_count": null,
      "metadata": {
        "colab": {
          "base_uri": "https://localhost:8080/",
          "height": 296
        },
        "id": "cwfFAnTfZsQW",
        "outputId": "5aaa69c4-971a-490d-a8c8-5071b771a64b"
      },
      "outputs": [],
      "source": [
        "sns.boxplot(x='Survived', y='Fare', data=dataset)"
      ]
    },
    {
      "cell_type": "code",
      "execution_count": null,
      "metadata": {
        "colab": {
          "base_uri": "https://localhost:8080/",
          "height": 296
        },
        "id": "sz7DX6vuaTir",
        "outputId": "722a2cd1-d692-4f98-f45c-3a14b336899d"
      },
      "outputs": [],
      "source": [
        "sns.boxplot(x='Sex', y='Age', data=dataset, hue=\"Survived\")"
      ]
    },
    {
      "cell_type": "code",
      "execution_count": null,
      "metadata": {
        "colab": {
          "base_uri": "https://localhost:8080/",
          "height": 296
        },
        "id": "4EbbKNyYamC7",
        "outputId": "12b86f93-2db3-4042-c6a7-44004d6f71ae"
      },
      "outputs": [],
      "source": [
        "sns.violinplot(x='Sex', y='Age', data=dataset, hue='Survived')"
      ]
    },
    {
      "cell_type": "code",
      "execution_count": null,
      "metadata": {
        "colab": {
          "base_uri": "https://localhost:8080/",
          "height": 296
        },
        "id": "OlF_EeDXa_9M",
        "outputId": "6b134721-341d-417b-8c1d-560193abfd02"
      },
      "outputs": [],
      "source": [
        "sns.stripplot(x='Sex', y='Age', data=dataset)"
      ]
    },
    {
      "cell_type": "code",
      "execution_count": null,
      "metadata": {
        "colab": {
          "base_uri": "https://localhost:8080/",
          "height": 296
        },
        "id": "1Oivy2i7cey1",
        "outputId": "5f176adc-0d15-4d96-a2e0-fdbbc3901f92"
      },
      "outputs": [],
      "source": [
        "sns.histplot(data=dataset,x='Fare',y='Survived')"
      ]
    }
  ],
  "metadata": {
    "colab": {
      "collapsed_sections": [],
      "name": "Data_Visualization_I(Assignment_No_8).ipynb",
      "provenance": []
    },
    "kernelspec": {
      "display_name": "Python 3",
      "name": "python3"
    },
    "language_info": {
      "codemirror_mode": {
        "name": "ipython",
        "version": 3
      },
      "file_extension": ".py",
      "mimetype": "text/x-python",
      "name": "python",
      "nbconvert_exporter": "python",
      "pygments_lexer": "ipython3",
      "version": "3.12.3"
    }
  },
  "nbformat": 4,
  "nbformat_minor": 0
}
